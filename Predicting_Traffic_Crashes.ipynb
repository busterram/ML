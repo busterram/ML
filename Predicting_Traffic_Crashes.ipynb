{
  "nbformat": 4,
  "nbformat_minor": 0,
  "metadata": {
    "colab": {
      "provenance": []
    },
    "kernelspec": {
      "name": "python3",
      "display_name": "Python 3"
    },
    "language_info": {
      "name": "python"
    }
  },
  "cells": [
    {
      "cell_type": "markdown",
      "source": [
        "# Predicting Traffic Crashes: A Data-Driven Approach to Road Safety"
      ],
      "metadata": {
        "id": "XHNC8kCRy_3s"
      }
    },
    {
      "cell_type": "code",
      "execution_count": null,
      "metadata": {
        "id": "BbmunA-1tXv-"
      },
      "outputs": [],
      "source": [
        "import pandas as pd\n",
        "from sklearn.model_selection import train_test_split\n",
        "from sklearn.pipeline import Pipeline\n",
        "from sklearn.compose import ColumnTransformer\n",
        "from sklearn.preprocessing import OneHotEncoder, StandardScaler\n",
        "from sklearn.linear_model import LogisticRegression\n",
        "from sklearn.metrics import accuracy_score, classification_report\n",
        "\n",
        "# Load your dataset (replace with your file if reading from CSV)\n",
        "df = pd.read_csv(\"Enhanced_Crash_Prediction_Data.csv\")\n",
        "\n",
        "# Use the prepared DataFrame if already in memory\n",
        "#df = df_enhanced.copy()\n",
        "\n",
        "# ------------------------------------\n",
        "# Step 1: Define features and target\n",
        "# ------------------------------------\n",
        "X = df.drop(columns=['Crash_Occurred', 'Crash_ID', 'Date_Time'])  # Drop non-feature columns\n",
        "y = df['Crash_Occurred']\n",
        "\n",
        "# ------------------------------------\n",
        "# Step 2: Define column types\n",
        "# ------------------------------------\n",
        "categorical_cols = [\n",
        "    'Weather_Condition', 'Road_Condition', 'Road_Geometry',\n",
        "    'Law_Enforcement_Activity', 'Special_Event', 'Holiday',\n",
        "    'Day_Name', 'Time_Bin', 'Near_Holiday', 'Spatial_Zone'\n",
        "]\n",
        "\n",
        "numeric_cols = [\n",
        "    'Traffic_Volume', 'Truck_Volume', 'Population_Density',\n",
        "    'Hour', 'DayOfWeek', 'Is_Weekend'\n",
        "]\n",
        "\n",
        "# ------------------------------------\n",
        "# Step 3: Preprocessing pipeline\n",
        "# ------------------------------------\n",
        "preprocessor = ColumnTransformer([\n",
        "    ('cat', OneHotEncoder(handle_unknown='ignore'), categorical_cols),\n",
        "    ('num', StandardScaler(), numeric_cols)\n",
        "])\n",
        "\n",
        "# ------------------------------------\n",
        "# Step 4: Modeling pipeline\n",
        "# ------------------------------------\n",
        "# pipeline = Pipeline([\n",
        "#     ('preprocess', preprocessor),\n",
        "#     ('classifier', LogisticRegression(max_iter=1000))\n",
        "# ])\n",
        "\n",
        "from sklearn.ensemble import RandomForestClassifier\n",
        "\n",
        "# With RandomForestClassifier\n",
        "pipeline = Pipeline([\n",
        "    ('preprocess', preprocessor),\n",
        "    ('classifier', RandomForestClassifier(n_estimators=100, random_state=42))\n",
        "])\n",
        "\n",
        "# You can optionally skip StandardScaler for numeric columns (trees don’t need it), but it's not harmful if left in.\n",
        "\n",
        "# XGBClassifier\n",
        "# from xgboost import XGBClassifier\n",
        "\n",
        "# pipeline = Pipeline([\n",
        "#     ('preprocess', preprocessor),\n",
        "#     ('classifier', XGBClassifier(use_label_encoder=False, eval_metric='logloss', random_state=42))\n",
        "# ])\n",
        "\n",
        "\n",
        "\n",
        "\n",
        "\n",
        "# ------------------------------------\n",
        "# Step 5: Train-test split\n",
        "# ------------------------------------\n",
        "X_train, X_test, y_train, y_test = train_test_split(X, y, test_size=0.2, random_state=42)\n",
        "\n",
        "# ------------------------------------\n",
        "# Step 6: Train the model\n",
        "# ------------------------------------\n",
        "pipeline.fit(X_train, y_train)\n",
        "\n",
        "# ------------------------------------\n",
        "# Step 7: Predict and evaluate\n",
        "# ------------------------------------\n",
        "y_pred = pipeline.predict(X_test)\n",
        "\n",
        "# Evaluation\n",
        "print(\"Accuracy:\", accuracy_score(y_test, y_pred))\n",
        "print(\"\\nClassification Report:\\n\", classification_report(y_test, y_pred))\n"
      ]
    }
  ]
}